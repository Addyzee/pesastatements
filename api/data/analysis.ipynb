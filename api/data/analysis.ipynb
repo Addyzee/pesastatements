{
 "cells": [
  {
   "cell_type": "code",
   "execution_count": 1,
   "metadata": {},
   "outputs": [],
   "source": [
    "import pandas as pd"
   ]
  },
  {
   "cell_type": "code",
   "execution_count": 15,
   "metadata": {},
   "outputs": [],
   "source": [
    "transactions = pd.read_csv(\"/output/transactions.csv\")"
   ]
  },
  {
   "cell_type": "code",
   "execution_count": 16,
   "metadata": {},
   "outputs": [
    {
     "data": {
      "text/plain": [
       "Index(['Transaction code', 'Date', 'Amount', 'Balance', 'Type', 'Direction',\n",
       "       'Party'],\n",
       "      dtype='object')"
      ]
     },
     "execution_count": 16,
     "metadata": {},
     "output_type": "execute_result"
    }
   ],
   "source": [
    "transactions.columns"
   ]
  },
  {
   "cell_type": "code",
   "execution_count": 17,
   "metadata": {},
   "outputs": [
    {
     "name": "stdout",
     "output_type": "stream",
     "text": [
      "<class 'pandas.core.frame.DataFrame'>\n",
      "RangeIndex: 2916 entries, 0 to 2915\n",
      "Data columns (total 7 columns):\n",
      " #   Column            Non-Null Count  Dtype  \n",
      "---  ------            --------------  -----  \n",
      " 0   Transaction code  2916 non-null   object \n",
      " 1   Date              2916 non-null   object \n",
      " 2   Amount            2916 non-null   float64\n",
      " 3   Balance           2916 non-null   float64\n",
      " 4   Type              2916 non-null   object \n",
      " 5   Direction         2916 non-null   object \n",
      " 6   Party             2916 non-null   object \n",
      "dtypes: float64(2), object(5)\n",
      "memory usage: 159.6+ KB\n"
     ]
    }
   ],
   "source": [
    "transactions.info()"
   ]
  },
  {
   "cell_type": "markdown",
   "metadata": {},
   "source": [
    "### Total Cash Flow Through MPESA"
   ]
  },
  {
   "cell_type": "markdown",
   "metadata": {},
   "source": [
    "#### Amount of money received in the whole period"
   ]
  },
  {
   "cell_type": "code",
   "execution_count": 6,
   "metadata": {},
   "outputs": [
    {
     "data": {
      "text/plain": [
       "np.float64(1647105.63)"
      ]
     },
     "execution_count": 6,
     "metadata": {},
     "output_type": "execute_result"
    }
   ],
   "source": [
    "transactions[transactions.Direction == \"In\"][\"Amount\"].sum()"
   ]
  },
  {
   "cell_type": "markdown",
   "metadata": {},
   "source": [
    "#### Amount of money sent in the whole period"
   ]
  },
  {
   "cell_type": "code",
   "execution_count": 7,
   "metadata": {},
   "outputs": [
    {
     "data": {
      "text/plain": [
       "np.float64(-1623798.52)"
      ]
     },
     "execution_count": 7,
     "metadata": {},
     "output_type": "execute_result"
    }
   ],
   "source": [
    "transactions[transactions.Direction == \"Out\"][\"Amount\"].sum()"
   ]
  },
  {
   "cell_type": "code",
   "execution_count": 8,
   "metadata": {},
   "outputs": [],
   "source": [
    "w_charges = set(transactions.loc[transactions[\"Type\"] == \"Withdrawal Charges\"][\"Transaction code\"])\n",
    "w_transactions = set(transactions.loc[transactions[\"Type\"] == \"Withdraw Money\"][\"Transaction code\"])"
   ]
  },
  {
   "cell_type": "code",
   "execution_count": 11,
   "metadata": {},
   "outputs": [
    {
     "data": {
      "text/plain": [
       "{'SJL6WDE1NI'}"
      ]
     },
     "execution_count": 11,
     "metadata": {},
     "output_type": "execute_result"
    }
   ],
   "source": [
    "w_transactions - w_charges"
   ]
  },
  {
   "cell_type": "code",
   "execution_count": 8,
   "metadata": {},
   "outputs": [
    {
     "data": {
      "text/plain": [
       "(16, 7)"
      ]
     },
     "execution_count": 8,
     "metadata": {},
     "output_type": "execute_result"
    }
   ],
   "source": [
    "transactions.loc[transactions[\"Type\"] == \"Withdraw Money\"].shape"
   ]
  },
  {
   "cell_type": "code",
   "execution_count": 9,
   "metadata": {},
   "outputs": [
    {
     "data": {
      "text/plain": [
       "array(['Buy Goods', 'Airtime', 'Pochi la Biashara', 'Receive money',\n",
       "       'Send money', 'Paybill', 'Withdrawal Charges', 'Withdraw Money',\n",
       "       'M-Shwari Loan', 'Receive money from bank/org',\n",
       "       'Safaricom Charges', 'International Money Transfer Sent',\n",
       "       'International Money Transfer Receipt', 'Deposit Cash',\n",
       "       'No description'], dtype=object)"
      ]
     },
     "execution_count": 9,
     "metadata": {},
     "output_type": "execute_result"
    }
   ],
   "source": [
    "transactions.Type.unique()"
   ]
  },
  {
   "cell_type": "code",
   "execution_count": 21,
   "metadata": {},
   "outputs": [
    {
     "data": {
      "text/html": [
       "<div>\n",
       "<style scoped>\n",
       "    .dataframe tbody tr th:only-of-type {\n",
       "        vertical-align: middle;\n",
       "    }\n",
       "\n",
       "    .dataframe tbody tr th {\n",
       "        vertical-align: top;\n",
       "    }\n",
       "\n",
       "    .dataframe thead th {\n",
       "        text-align: right;\n",
       "    }\n",
       "</style>\n",
       "<table border=\"1\" class=\"dataframe\">\n",
       "  <thead>\n",
       "    <tr style=\"text-align: right;\">\n",
       "      <th></th>\n",
       "      <th>Transaction code</th>\n",
       "      <th>Date</th>\n",
       "      <th>Amount</th>\n",
       "      <th>Balance</th>\n",
       "      <th>Type</th>\n",
       "      <th>Direction</th>\n",
       "      <th>Party</th>\n",
       "    </tr>\n",
       "  </thead>\n",
       "  <tbody>\n",
       "    <tr>\n",
       "      <th>992</th>\n",
       "      <td>SHO95RXJ4L</td>\n",
       "      <td>2024-08-24 22:41:26</td>\n",
       "      <td>75.0</td>\n",
       "      <td>11388.3</td>\n",
       "      <td>Airtime</td>\n",
       "      <td>In</td>\n",
       "      <td>Safaricom</td>\n",
       "    </tr>\n",
       "  </tbody>\n",
       "</table>\n",
       "</div>"
      ],
      "text/plain": [
       "    Transaction code                 Date  Amount  Balance     Type Direction  \\\n",
       "992       SHO95RXJ4L  2024-08-24 22:41:26    75.0  11388.3  Airtime        In   \n",
       "\n",
       "         Party  \n",
       "992  Safaricom  "
      ]
     },
     "execution_count": 21,
     "metadata": {},
     "output_type": "execute_result"
    }
   ],
   "source": [
    "transactions.loc[(transactions[\"Type\"]==\"Airtime\") & (transactions[\"Amount\"]>0)]"
   ]
  },
  {
   "cell_type": "code",
   "execution_count": 18,
   "metadata": {},
   "outputs": [
    {
     "data": {
      "text/html": [
       "<div>\n",
       "<style scoped>\n",
       "    .dataframe tbody tr th:only-of-type {\n",
       "        vertical-align: middle;\n",
       "    }\n",
       "\n",
       "    .dataframe tbody tr th {\n",
       "        vertical-align: top;\n",
       "    }\n",
       "\n",
       "    .dataframe thead th {\n",
       "        text-align: right;\n",
       "    }\n",
       "</style>\n",
       "<table border=\"1\" class=\"dataframe\">\n",
       "  <thead>\n",
       "    <tr style=\"text-align: right;\">\n",
       "      <th></th>\n",
       "      <th>Transaction code</th>\n",
       "      <th>Date</th>\n",
       "      <th>Amount</th>\n",
       "      <th>Balance</th>\n",
       "      <th>Type</th>\n",
       "      <th>Direction</th>\n",
       "      <th>Party</th>\n",
       "    </tr>\n",
       "  </thead>\n",
       "  <tbody>\n",
       "    <tr>\n",
       "      <th>0</th>\n",
       "      <td>SLS85T3UIS</td>\n",
       "      <td>2024-12-28 17:14:15</td>\n",
       "      <td>-50.0</td>\n",
       "      <td>9573.02</td>\n",
       "      <td>Send money</td>\n",
       "      <td>Out</td>\n",
       "      <td>07******374 Kevin Kuya</td>\n",
       "    </tr>\n",
       "    <tr>\n",
       "      <th>1</th>\n",
       "      <td>SLR73F2QIX</td>\n",
       "      <td>2024-12-27 22:56:45</td>\n",
       "      <td>-5.0</td>\n",
       "      <td>9623.02</td>\n",
       "      <td>Paybill</td>\n",
       "      <td>Out</td>\n",
       "      <td>Safaricom</td>\n",
       "    </tr>\n",
       "    <tr>\n",
       "      <th>2</th>\n",
       "      <td>SLR73F2QIX</td>\n",
       "      <td>2024-12-27 22:56:45</td>\n",
       "      <td>-300.0</td>\n",
       "      <td>9628.02</td>\n",
       "      <td>Paybill</td>\n",
       "      <td>Out</td>\n",
       "      <td>KPLCPREPAID Acc. 54607518138</td>\n",
       "    </tr>\n",
       "    <tr>\n",
       "      <th>3</th>\n",
       "      <td>SLR93EZMK5</td>\n",
       "      <td>2024-12-27 22:55:21</td>\n",
       "      <td>330.0</td>\n",
       "      <td>9928.02</td>\n",
       "      <td>Receive money</td>\n",
       "      <td>In</td>\n",
       "      <td>2547******189 HANNAH KAMAU</td>\n",
       "    </tr>\n",
       "    <tr>\n",
       "      <th>4</th>\n",
       "      <td>SLP0TLJO9S</td>\n",
       "      <td>2024-12-25 17:26:22</td>\n",
       "      <td>-30.0</td>\n",
       "      <td>9598.02</td>\n",
       "      <td>Pochi la Biashara</td>\n",
       "      <td>Out</td>\n",
       "      <td>07******564 fredkingoina</td>\n",
       "    </tr>\n",
       "    <tr>\n",
       "      <th>...</th>\n",
       "      <td>...</td>\n",
       "      <td>...</td>\n",
       "      <td>...</td>\n",
       "      <td>...</td>\n",
       "      <td>...</td>\n",
       "      <td>...</td>\n",
       "      <td>...</td>\n",
       "    </tr>\n",
       "    <tr>\n",
       "      <th>99</th>\n",
       "      <td>SLC87UTG74</td>\n",
       "      <td>2024-12-12 16:45:03</td>\n",
       "      <td>-5.0</td>\n",
       "      <td>498.02</td>\n",
       "      <td>Paybill</td>\n",
       "      <td>Out</td>\n",
       "      <td>Safaricom</td>\n",
       "    </tr>\n",
       "    <tr>\n",
       "      <th>100</th>\n",
       "      <td>SLC87UTG74</td>\n",
       "      <td>2024-12-12 16:45:03</td>\n",
       "      <td>-300.0</td>\n",
       "      <td>503.02</td>\n",
       "      <td>Paybill</td>\n",
       "      <td>Out</td>\n",
       "      <td>KCB PaybillAC Acc. 7551712</td>\n",
       "    </tr>\n",
       "    <tr>\n",
       "      <th>101</th>\n",
       "      <td>SLC87U60Q4</td>\n",
       "      <td>2024-12-12 16:40:40</td>\n",
       "      <td>-225.0</td>\n",
       "      <td>803.02</td>\n",
       "      <td>Buy Goods</td>\n",
       "      <td>Out</td>\n",
       "      <td>JANE NYOKABI KINGORI</td>\n",
       "    </tr>\n",
       "    <tr>\n",
       "      <th>102</th>\n",
       "      <td>SLC67T08D4</td>\n",
       "      <td>2024-12-12 16:32:50</td>\n",
       "      <td>-20.0</td>\n",
       "      <td>1028.02</td>\n",
       "      <td>Airtime</td>\n",
       "      <td>Out</td>\n",
       "      <td>Safaricom</td>\n",
       "    </tr>\n",
       "    <tr>\n",
       "      <th>103</th>\n",
       "      <td>SLC37PU68R</td>\n",
       "      <td>2024-12-12 16:10:41</td>\n",
       "      <td>1000.0</td>\n",
       "      <td>1048.02</td>\n",
       "      <td>Receive money from bank/org</td>\n",
       "      <td>In</td>\n",
       "      <td>Andrew Kamau Kimani</td>\n",
       "    </tr>\n",
       "  </tbody>\n",
       "</table>\n",
       "<p>104 rows × 7 columns</p>\n",
       "</div>"
      ],
      "text/plain": [
       "    Transaction code                 Date  Amount  Balance  \\\n",
       "0         SLS85T3UIS  2024-12-28 17:14:15   -50.0  9573.02   \n",
       "1         SLR73F2QIX  2024-12-27 22:56:45    -5.0  9623.02   \n",
       "2         SLR73F2QIX  2024-12-27 22:56:45  -300.0  9628.02   \n",
       "3         SLR93EZMK5  2024-12-27 22:55:21   330.0  9928.02   \n",
       "4         SLP0TLJO9S  2024-12-25 17:26:22   -30.0  9598.02   \n",
       "..               ...                  ...     ...      ...   \n",
       "99        SLC87UTG74  2024-12-12 16:45:03    -5.0   498.02   \n",
       "100       SLC87UTG74  2024-12-12 16:45:03  -300.0   503.02   \n",
       "101       SLC87U60Q4  2024-12-12 16:40:40  -225.0   803.02   \n",
       "102       SLC67T08D4  2024-12-12 16:32:50   -20.0  1028.02   \n",
       "103       SLC37PU68R  2024-12-12 16:10:41  1000.0  1048.02   \n",
       "\n",
       "                            Type Direction                         Party  \n",
       "0                     Send money       Out        07******374 Kevin Kuya  \n",
       "1                        Paybill       Out                     Safaricom  \n",
       "2                        Paybill       Out  KPLCPREPAID Acc. 54607518138  \n",
       "3                  Receive money        In    2547******189 HANNAH KAMAU  \n",
       "4              Pochi la Biashara       Out      07******564 fredkingoina  \n",
       "..                           ...       ...                           ...  \n",
       "99                       Paybill       Out                     Safaricom  \n",
       "100                      Paybill       Out    KCB PaybillAC Acc. 7551712  \n",
       "101                    Buy Goods       Out          JANE NYOKABI KINGORI  \n",
       "102                      Airtime       Out                     Safaricom  \n",
       "103  Receive money from bank/org        In           Andrew Kamau Kimani  \n",
       "\n",
       "[104 rows x 7 columns]"
      ]
     },
     "execution_count": 18,
     "metadata": {},
     "output_type": "execute_result"
    }
   ],
   "source": [
    "transactions[transactions[\"Date\"]>\"2024-12-12\"]"
   ]
  },
  {
   "cell_type": "code",
   "execution_count": 28,
   "metadata": {},
   "outputs": [
    {
     "data": {
      "text/html": [
       "<div>\n",
       "<style scoped>\n",
       "    .dataframe tbody tr th:only-of-type {\n",
       "        vertical-align: middle;\n",
       "    }\n",
       "\n",
       "    .dataframe tbody tr th {\n",
       "        vertical-align: top;\n",
       "    }\n",
       "\n",
       "    .dataframe thead th {\n",
       "        text-align: right;\n",
       "    }\n",
       "</style>\n",
       "<table border=\"1\" class=\"dataframe\">\n",
       "  <thead>\n",
       "    <tr style=\"text-align: right;\">\n",
       "      <th></th>\n",
       "      <th>Amount</th>\n",
       "    </tr>\n",
       "    <tr>\n",
       "      <th>Party</th>\n",
       "      <th></th>\n",
       "    </tr>\n",
       "  </thead>\n",
       "  <tbody>\n",
       "    <tr>\n",
       "      <th>M-PESA GLOBAL. Acc.256773347169</th>\n",
       "      <td>-116166.0</td>\n",
       "    </tr>\n",
       "    <tr>\n",
       "      <th>MALIAcc.0702605230_40144986_712637#96125e75-fd58-46c7-a054-afbf77a5fd6e</th>\n",
       "      <td>-67287.0</td>\n",
       "    </tr>\n",
       "    <tr>\n",
       "      <th>Equity Paybill Account Acc.0702605230</th>\n",
       "      <td>-50900.0</td>\n",
       "    </tr>\n",
       "    <tr>\n",
       "      <th>CAPE PROPERTIES VIA CO-OPAcc. NO2</th>\n",
       "      <td>-48100.0</td>\n",
       "    </tr>\n",
       "    <tr>\n",
       "      <th>MALIAcc.0702605230_40144986_539706#3504017c-e988-4add-857f-94e5c7f9f666</th>\n",
       "      <td>-36895.0</td>\n",
       "    </tr>\n",
       "    <tr>\n",
       "      <th>MALIAcc.0702605230_40144986_535102#e08e0567-963e-47e9-81e0-016c93f3e3b2</th>\n",
       "      <td>-25340.0</td>\n",
       "    </tr>\n",
       "    <tr>\n",
       "      <th>MALIAcc.0702605230_40144986_346938#8bec0519-6bb3-41d8-9703-8a9e5e4ffb24</th>\n",
       "      <td>-22750.0</td>\n",
       "    </tr>\n",
       "    <tr>\n",
       "      <th>MALIAcc.0702605230_40144986_565881#87773e92-cb75-44ac-aa59-f889a439accf</th>\n",
       "      <td>-20000.0</td>\n",
       "    </tr>\n",
       "    <tr>\n",
       "      <th>MALIAcc.0702605230_40144986_7874#d9a7f433-1ac9-4331-9450-4e5f74f91e4a</th>\n",
       "      <td>-20000.0</td>\n",
       "    </tr>\n",
       "    <tr>\n",
       "      <th>MALIAcc.0702605230_40144986_489336#c79002d9-b97b-49c4-aa91-bf92ab787601</th>\n",
       "      <td>-19000.0</td>\n",
       "    </tr>\n",
       "  </tbody>\n",
       "</table>\n",
       "</div>"
      ],
      "text/plain": [
       "                                                      Amount\n",
       "Party                                                       \n",
       "M-PESA GLOBAL. Acc.256773347169                    -116166.0\n",
       "MALIAcc.0702605230_40144986_712637#96125e75-fd5...  -67287.0\n",
       "Equity Paybill Account Acc.0702605230               -50900.0\n",
       "CAPE PROPERTIES VIA CO-OPAcc. NO2                   -48100.0\n",
       "MALIAcc.0702605230_40144986_539706#3504017c-e98...  -36895.0\n",
       "MALIAcc.0702605230_40144986_535102#e08e0567-963...  -25340.0\n",
       "MALIAcc.0702605230_40144986_346938#8bec0519-6bb...  -22750.0\n",
       "MALIAcc.0702605230_40144986_565881#87773e92-cb7...  -20000.0\n",
       "MALIAcc.0702605230_40144986_7874#d9a7f433-1ac9-...  -20000.0\n",
       "MALIAcc.0702605230_40144986_489336#c79002d9-b97...  -19000.0"
      ]
     },
     "execution_count": 28,
     "metadata": {},
     "output_type": "execute_result"
    }
   ],
   "source": [
    "transactions.loc[transactions[\"Type\"] == \"Paybill\",[\"Amount\",\"Party\"]].groupby('Party',group_keys=False).sum().nsmallest(10,\"Amount\")"
   ]
  }
 ],
 "metadata": {
  "kernelspec": {
   "display_name": "venv",
   "language": "python",
   "name": "python3"
  },
  "language_info": {
   "codemirror_mode": {
    "name": "ipython",
    "version": 3
   },
   "file_extension": ".py",
   "mimetype": "text/x-python",
   "name": "python",
   "nbconvert_exporter": "python",
   "pygments_lexer": "ipython3",
   "version": "3.13.1"
  }
 },
 "nbformat": 4,
 "nbformat_minor": 2
}
