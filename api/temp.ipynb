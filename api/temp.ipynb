{
 "cells": [
  {
   "cell_type": "code",
   "execution_count": 187,
   "metadata": {},
   "outputs": [],
   "source": [
    "import pandas as pd"
   ]
  },
  {
   "cell_type": "code",
   "execution_count": 188,
   "metadata": {},
   "outputs": [],
   "source": [
    "transactions = pd.read_csv(\"data/transactions.csv\")"
   ]
  },
  {
   "cell_type": "code",
   "execution_count": 189,
   "metadata": {},
   "outputs": [
    {
     "data": {
      "text/plain": [
       "Index(['Unnamed: 0', 'Transaction code', 'Date', 'Amount', 'Balance', 'Type',\n",
       "       'Direction', 'Party'],\n",
       "      dtype='object')"
      ]
     },
     "execution_count": 189,
     "metadata": {},
     "output_type": "execute_result"
    }
   ],
   "source": [
    "transactions.columns"
   ]
  },
  {
   "cell_type": "code",
   "execution_count": 190,
   "metadata": {},
   "outputs": [
    {
     "name": "stdout",
     "output_type": "stream",
     "text": [
      "<class 'pandas.core.frame.DataFrame'>\n",
      "RangeIndex: 2916 entries, 0 to 2915\n",
      "Data columns (total 8 columns):\n",
      " #   Column            Non-Null Count  Dtype  \n",
      "---  ------            --------------  -----  \n",
      " 0   Unnamed: 0        2916 non-null   int64  \n",
      " 1   Transaction code  2916 non-null   object \n",
      " 2   Date              2916 non-null   object \n",
      " 3   Amount            2916 non-null   float64\n",
      " 4   Balance           2916 non-null   float64\n",
      " 5   Type              2916 non-null   object \n",
      " 6   Direction         2916 non-null   object \n",
      " 7   Party             2916 non-null   object \n",
      "dtypes: float64(2), int64(1), object(5)\n",
      "memory usage: 182.4+ KB\n"
     ]
    }
   ],
   "source": [
    "transactions.info()"
   ]
  },
  {
   "cell_type": "markdown",
   "metadata": {},
   "source": [
    "### Total Cash Flow Through MPESA"
   ]
  },
  {
   "cell_type": "markdown",
   "metadata": {},
   "source": [
    "#### Amount of money received in the whole period"
   ]
  },
  {
   "cell_type": "code",
   "execution_count": 191,
   "metadata": {},
   "outputs": [
    {
     "data": {
      "text/plain": [
       "np.float64(1647105.63)"
      ]
     },
     "execution_count": 191,
     "metadata": {},
     "output_type": "execute_result"
    }
   ],
   "source": [
    "transactions[transactions.Direction == \"In\"][\"Amount\"].sum()"
   ]
  },
  {
   "cell_type": "markdown",
   "metadata": {},
   "source": [
    "#### Amount of money sent in the whole period"
   ]
  },
  {
   "cell_type": "code",
   "execution_count": 192,
   "metadata": {},
   "outputs": [
    {
     "data": {
      "text/plain": [
       "np.float64(1623798.52)"
      ]
     },
     "execution_count": 192,
     "metadata": {},
     "output_type": "execute_result"
    }
   ],
   "source": [
    "transactions[transactions.Direction == \"Out\"][\"Amount\"].sum()"
   ]
  },
  {
   "cell_type": "code",
   "execution_count": 193,
   "metadata": {},
   "outputs": [],
   "source": [
    "w_charges = set(transactions.loc[transactions[\"Type\"] == \"Withdrawal Charges\"][\"Transaction code\"])\n",
    "w_transactions = set(transactions.loc[transactions[\"Type\"] == \"Withdraw Money\"][\"Transaction code\"])"
   ]
  },
  {
   "cell_type": "code",
   "execution_count": 194,
   "metadata": {},
   "outputs": [
    {
     "data": {
      "text/plain": [
       "{'SJL6WDE1NI'}"
      ]
     },
     "execution_count": 194,
     "metadata": {},
     "output_type": "execute_result"
    }
   ],
   "source": [
    "w_transactions - w_charges"
   ]
  },
  {
   "cell_type": "code",
   "execution_count": 195,
   "metadata": {},
   "outputs": [
    {
     "data": {
      "text/plain": [
       "(59, 8)"
      ]
     },
     "execution_count": 195,
     "metadata": {},
     "output_type": "execute_result"
    }
   ],
   "source": [
    "transactions.loc[transactions[\"Type\"] == \"Withdraw Money\"].shape"
   ]
  },
  {
   "cell_type": "code",
   "execution_count": 196,
   "metadata": {},
   "outputs": [
    {
     "data": {
      "text/plain": [
       "array(['Send money', 'Paybill', 'Receive money', 'Pochi la Biashara',\n",
       "       'Airtime', 'Buy Goods', 'Withdrawal Charges', 'Withdraw Money',\n",
       "       'M-Shwari Loan', 'Receive money from bank/org',\n",
       "       'Safaricom Charges', 'International Money Transfer Sent',\n",
       "       'International Money Transfer Receipt', 'Deposit Cash',\n",
       "       'No description', 'Reversal'], dtype=object)"
      ]
     },
     "execution_count": 196,
     "metadata": {},
     "output_type": "execute_result"
    }
   ],
   "source": [
    "transactions.Type.unique()"
   ]
  },
  {
   "cell_type": "code",
   "execution_count": 197,
   "metadata": {},
   "outputs": [
    {
     "data": {
      "text/html": [
       "<div>\n",
       "<style scoped>\n",
       "    .dataframe tbody tr th:only-of-type {\n",
       "        vertical-align: middle;\n",
       "    }\n",
       "\n",
       "    .dataframe tbody tr th {\n",
       "        vertical-align: top;\n",
       "    }\n",
       "\n",
       "    .dataframe thead th {\n",
       "        text-align: right;\n",
       "    }\n",
       "</style>\n",
       "<table border=\"1\" class=\"dataframe\">\n",
       "  <thead>\n",
       "    <tr style=\"text-align: right;\">\n",
       "      <th></th>\n",
       "      <th>Unnamed: 0</th>\n",
       "      <th>Transaction code</th>\n",
       "      <th>Date</th>\n",
       "      <th>Amount</th>\n",
       "      <th>Balance</th>\n",
       "      <th>Type</th>\n",
       "      <th>Direction</th>\n",
       "      <th>Party</th>\n",
       "    </tr>\n",
       "  </thead>\n",
       "  <tbody>\n",
       "    <tr>\n",
       "      <th>10</th>\n",
       "      <td>10</td>\n",
       "      <td>SLO1P0VEGF</td>\n",
       "      <td>2024-12-24 17:36:11</td>\n",
       "      <td>20.0</td>\n",
       "      <td>1758.02</td>\n",
       "      <td>Airtime</td>\n",
       "      <td>Out</td>\n",
       "      <td>4093441SAFARICOM DATABUNDLES by - 07******230A...</td>\n",
       "    </tr>\n",
       "    <tr>\n",
       "      <th>11</th>\n",
       "      <td>11</td>\n",
       "      <td>SLO6P0PSC6</td>\n",
       "      <td>2024-12-24 17:35:25</td>\n",
       "      <td>20.0</td>\n",
       "      <td>1778.02</td>\n",
       "      <td>Airtime</td>\n",
       "      <td>Out</td>\n",
       "      <td>4093441SAFARICOM DATABUNDLES by - 07******230A...</td>\n",
       "    </tr>\n",
       "    <tr>\n",
       "      <th>12</th>\n",
       "      <td>12</td>\n",
       "      <td>SLO5OLHTNL</td>\n",
       "      <td>2024-12-24 16:15:13</td>\n",
       "      <td>15.0</td>\n",
       "      <td>1798.02</td>\n",
       "      <td>Airtime</td>\n",
       "      <td>Out</td>\n",
       "      <td>4093441SAFARICOM DATABUNDLES by - 07******230A...</td>\n",
       "    </tr>\n",
       "    <tr>\n",
       "      <th>14</th>\n",
       "      <td>14</td>\n",
       "      <td>SLO9O9UF33</td>\n",
       "      <td>2024-12-24 15:08:30</td>\n",
       "      <td>20.0</td>\n",
       "      <td>1913.02</td>\n",
       "      <td>Airtime</td>\n",
       "      <td>Out</td>\n",
       "      <td>4093441SAFARICOM DATABUNDLES by - 07******230A...</td>\n",
       "    </tr>\n",
       "    <tr>\n",
       "      <th>15</th>\n",
       "      <td>15</td>\n",
       "      <td>SLO5NUAKJD</td>\n",
       "      <td>2024-12-24 13:37:52</td>\n",
       "      <td>20.0</td>\n",
       "      <td>1933.02</td>\n",
       "      <td>Airtime</td>\n",
       "      <td>Out</td>\n",
       "      <td>Safaricom</td>\n",
       "    </tr>\n",
       "    <tr>\n",
       "      <th>...</th>\n",
       "      <td>...</td>\n",
       "      <td>...</td>\n",
       "      <td>...</td>\n",
       "      <td>...</td>\n",
       "      <td>...</td>\n",
       "      <td>...</td>\n",
       "      <td>...</td>\n",
       "      <td>...</td>\n",
       "    </tr>\n",
       "    <tr>\n",
       "      <th>2892</th>\n",
       "      <td>2892</td>\n",
       "      <td>SA34XJDQTY</td>\n",
       "      <td>2024-01-03 09:44:54</td>\n",
       "      <td>75.0</td>\n",
       "      <td>3015.66</td>\n",
       "      <td>Airtime</td>\n",
       "      <td>Out</td>\n",
       "      <td>Safaricom</td>\n",
       "    </tr>\n",
       "    <tr>\n",
       "      <th>2895</th>\n",
       "      <td>2895</td>\n",
       "      <td>SA36XIJ0A6</td>\n",
       "      <td>2024-01-03 09:36:12</td>\n",
       "      <td>20.0</td>\n",
       "      <td>3619.66</td>\n",
       "      <td>Airtime</td>\n",
       "      <td>Out</td>\n",
       "      <td>Safaricom</td>\n",
       "    </tr>\n",
       "    <tr>\n",
       "      <th>2896</th>\n",
       "      <td>2896</td>\n",
       "      <td>SA10TJGY2A</td>\n",
       "      <td>2024-01-01 20:14:20</td>\n",
       "      <td>10.0</td>\n",
       "      <td>3639.66</td>\n",
       "      <td>Airtime</td>\n",
       "      <td>Out</td>\n",
       "      <td>Safaricom</td>\n",
       "    </tr>\n",
       "    <tr>\n",
       "      <th>2904</th>\n",
       "      <td>2904</td>\n",
       "      <td>RLU7NUTO5V</td>\n",
       "      <td>2023-12-30 23:01:54</td>\n",
       "      <td>75.0</td>\n",
       "      <td>337.66</td>\n",
       "      <td>Airtime</td>\n",
       "      <td>Out</td>\n",
       "      <td>Safaricom</td>\n",
       "    </tr>\n",
       "    <tr>\n",
       "      <th>2909</th>\n",
       "      <td>2909</td>\n",
       "      <td>RLU0LA27AA</td>\n",
       "      <td>2023-12-30 09:53:47</td>\n",
       "      <td>20.0</td>\n",
       "      <td>65.66</td>\n",
       "      <td>Airtime</td>\n",
       "      <td>Out</td>\n",
       "      <td>Safaricom</td>\n",
       "    </tr>\n",
       "  </tbody>\n",
       "</table>\n",
       "<p>232 rows × 8 columns</p>\n",
       "</div>"
      ],
      "text/plain": [
       "      Unnamed: 0 Transaction code                 Date  Amount  Balance  \\\n",
       "10            10       SLO1P0VEGF  2024-12-24 17:36:11    20.0  1758.02   \n",
       "11            11       SLO6P0PSC6  2024-12-24 17:35:25    20.0  1778.02   \n",
       "12            12       SLO5OLHTNL  2024-12-24 16:15:13    15.0  1798.02   \n",
       "14            14       SLO9O9UF33  2024-12-24 15:08:30    20.0  1913.02   \n",
       "15            15       SLO5NUAKJD  2024-12-24 13:37:52    20.0  1933.02   \n",
       "...          ...              ...                  ...     ...      ...   \n",
       "2892        2892       SA34XJDQTY  2024-01-03 09:44:54    75.0  3015.66   \n",
       "2895        2895       SA36XIJ0A6  2024-01-03 09:36:12    20.0  3619.66   \n",
       "2896        2896       SA10TJGY2A  2024-01-01 20:14:20    10.0  3639.66   \n",
       "2904        2904       RLU7NUTO5V  2023-12-30 23:01:54    75.0   337.66   \n",
       "2909        2909       RLU0LA27AA  2023-12-30 09:53:47    20.0    65.66   \n",
       "\n",
       "         Type Direction                                              Party  \n",
       "10    Airtime       Out  4093441SAFARICOM DATABUNDLES by - 07******230A...  \n",
       "11    Airtime       Out  4093441SAFARICOM DATABUNDLES by - 07******230A...  \n",
       "12    Airtime       Out  4093441SAFARICOM DATABUNDLES by - 07******230A...  \n",
       "14    Airtime       Out  4093441SAFARICOM DATABUNDLES by - 07******230A...  \n",
       "15    Airtime       Out                                          Safaricom  \n",
       "...       ...       ...                                                ...  \n",
       "2892  Airtime       Out                                          Safaricom  \n",
       "2895  Airtime       Out                                          Safaricom  \n",
       "2896  Airtime       Out                                          Safaricom  \n",
       "2904  Airtime       Out                                          Safaricom  \n",
       "2909  Airtime       Out                                          Safaricom  \n",
       "\n",
       "[232 rows x 8 columns]"
      ]
     },
     "execution_count": 197,
     "metadata": {},
     "output_type": "execute_result"
    }
   ],
   "source": [
    "transactions.loc[(transactions[\"Type\"]==\"Airtime\")]"
   ]
  },
  {
   "cell_type": "code",
   "execution_count": 198,
   "metadata": {},
   "outputs": [
    {
     "data": {
      "text/html": [
       "<div>\n",
       "<style scoped>\n",
       "    .dataframe tbody tr th:only-of-type {\n",
       "        vertical-align: middle;\n",
       "    }\n",
       "\n",
       "    .dataframe tbody tr th {\n",
       "        vertical-align: top;\n",
       "    }\n",
       "\n",
       "    .dataframe thead th {\n",
       "        text-align: right;\n",
       "    }\n",
       "</style>\n",
       "<table border=\"1\" class=\"dataframe\">\n",
       "  <thead>\n",
       "    <tr style=\"text-align: right;\">\n",
       "      <th></th>\n",
       "      <th>Unnamed: 0</th>\n",
       "      <th>Transaction code</th>\n",
       "      <th>Date</th>\n",
       "      <th>Amount</th>\n",
       "      <th>Balance</th>\n",
       "      <th>Type</th>\n",
       "      <th>Direction</th>\n",
       "      <th>Party</th>\n",
       "    </tr>\n",
       "  </thead>\n",
       "  <tbody>\n",
       "    <tr>\n",
       "      <th>0</th>\n",
       "      <td>0</td>\n",
       "      <td>SLS85T3UIS</td>\n",
       "      <td>2024-12-28 17:14:15</td>\n",
       "      <td>50.0</td>\n",
       "      <td>9573.02</td>\n",
       "      <td>Send money</td>\n",
       "      <td>Out</td>\n",
       "      <td>07******374 Kevin Kuya</td>\n",
       "    </tr>\n",
       "    <tr>\n",
       "      <th>1</th>\n",
       "      <td>1</td>\n",
       "      <td>SLR73F2QIX</td>\n",
       "      <td>2024-12-27 22:56:45</td>\n",
       "      <td>5.0</td>\n",
       "      <td>9623.02</td>\n",
       "      <td>Paybill</td>\n",
       "      <td>Out</td>\n",
       "      <td>Safaricom</td>\n",
       "    </tr>\n",
       "    <tr>\n",
       "      <th>2</th>\n",
       "      <td>2</td>\n",
       "      <td>SLR73F2QIX</td>\n",
       "      <td>2024-12-27 22:56:45</td>\n",
       "      <td>300.0</td>\n",
       "      <td>9628.02</td>\n",
       "      <td>Paybill</td>\n",
       "      <td>Out</td>\n",
       "      <td>888880 - KPLCPREPAID Acc. 54607518138</td>\n",
       "    </tr>\n",
       "    <tr>\n",
       "      <th>3</th>\n",
       "      <td>3</td>\n",
       "      <td>SLR93EZMK5</td>\n",
       "      <td>2024-12-27 22:55:21</td>\n",
       "      <td>330.0</td>\n",
       "      <td>9928.02</td>\n",
       "      <td>Receive money</td>\n",
       "      <td>In</td>\n",
       "      <td>2547******189 HANNAH KAMAU</td>\n",
       "    </tr>\n",
       "    <tr>\n",
       "      <th>4</th>\n",
       "      <td>4</td>\n",
       "      <td>SLP0TLJO9S</td>\n",
       "      <td>2024-12-25 17:26:22</td>\n",
       "      <td>30.0</td>\n",
       "      <td>9598.02</td>\n",
       "      <td>Pochi la Biashara</td>\n",
       "      <td>Out</td>\n",
       "      <td>07******564 fredkingoina</td>\n",
       "    </tr>\n",
       "    <tr>\n",
       "      <th>...</th>\n",
       "      <td>...</td>\n",
       "      <td>...</td>\n",
       "      <td>...</td>\n",
       "      <td>...</td>\n",
       "      <td>...</td>\n",
       "      <td>...</td>\n",
       "      <td>...</td>\n",
       "      <td>...</td>\n",
       "    </tr>\n",
       "    <tr>\n",
       "      <th>99</th>\n",
       "      <td>99</td>\n",
       "      <td>SLC87UTG74</td>\n",
       "      <td>2024-12-12 16:45:03</td>\n",
       "      <td>5.0</td>\n",
       "      <td>498.02</td>\n",
       "      <td>Paybill</td>\n",
       "      <td>Out</td>\n",
       "      <td>Safaricom</td>\n",
       "    </tr>\n",
       "    <tr>\n",
       "      <th>100</th>\n",
       "      <td>100</td>\n",
       "      <td>SLC87UTG74</td>\n",
       "      <td>2024-12-12 16:45:03</td>\n",
       "      <td>300.0</td>\n",
       "      <td>503.02</td>\n",
       "      <td>Paybill</td>\n",
       "      <td>Out</td>\n",
       "      <td>522522 - KCB PaybillAC Acc. 7551712</td>\n",
       "    </tr>\n",
       "    <tr>\n",
       "      <th>101</th>\n",
       "      <td>101</td>\n",
       "      <td>SLC87U60Q4</td>\n",
       "      <td>2024-12-12 16:40:40</td>\n",
       "      <td>225.0</td>\n",
       "      <td>803.02</td>\n",
       "      <td>Buy Goods</td>\n",
       "      <td>Out</td>\n",
       "      <td>7766630 -JANE NYOKABI KINGORI</td>\n",
       "    </tr>\n",
       "    <tr>\n",
       "      <th>102</th>\n",
       "      <td>102</td>\n",
       "      <td>SLC67T08D4</td>\n",
       "      <td>2024-12-12 16:32:50</td>\n",
       "      <td>20.0</td>\n",
       "      <td>1028.02</td>\n",
       "      <td>Airtime</td>\n",
       "      <td>Out</td>\n",
       "      <td>Safaricom</td>\n",
       "    </tr>\n",
       "    <tr>\n",
       "      <th>103</th>\n",
       "      <td>103</td>\n",
       "      <td>SLC37PU68R</td>\n",
       "      <td>2024-12-12 16:10:41</td>\n",
       "      <td>1000.0</td>\n",
       "      <td>1048.02</td>\n",
       "      <td>Receive money from bank/org</td>\n",
       "      <td>In</td>\n",
       "      <td>5335416 -Andrew Kamau Kimani</td>\n",
       "    </tr>\n",
       "  </tbody>\n",
       "</table>\n",
       "<p>104 rows × 8 columns</p>\n",
       "</div>"
      ],
      "text/plain": [
       "     Unnamed: 0 Transaction code                 Date  Amount  Balance  \\\n",
       "0             0       SLS85T3UIS  2024-12-28 17:14:15    50.0  9573.02   \n",
       "1             1       SLR73F2QIX  2024-12-27 22:56:45     5.0  9623.02   \n",
       "2             2       SLR73F2QIX  2024-12-27 22:56:45   300.0  9628.02   \n",
       "3             3       SLR93EZMK5  2024-12-27 22:55:21   330.0  9928.02   \n",
       "4             4       SLP0TLJO9S  2024-12-25 17:26:22    30.0  9598.02   \n",
       "..          ...              ...                  ...     ...      ...   \n",
       "99           99       SLC87UTG74  2024-12-12 16:45:03     5.0   498.02   \n",
       "100         100       SLC87UTG74  2024-12-12 16:45:03   300.0   503.02   \n",
       "101         101       SLC87U60Q4  2024-12-12 16:40:40   225.0   803.02   \n",
       "102         102       SLC67T08D4  2024-12-12 16:32:50    20.0  1028.02   \n",
       "103         103       SLC37PU68R  2024-12-12 16:10:41  1000.0  1048.02   \n",
       "\n",
       "                            Type Direction  \\\n",
       "0                     Send money       Out   \n",
       "1                        Paybill       Out   \n",
       "2                        Paybill       Out   \n",
       "3                  Receive money        In   \n",
       "4              Pochi la Biashara       Out   \n",
       "..                           ...       ...   \n",
       "99                       Paybill       Out   \n",
       "100                      Paybill       Out   \n",
       "101                    Buy Goods       Out   \n",
       "102                      Airtime       Out   \n",
       "103  Receive money from bank/org        In   \n",
       "\n",
       "                                     Party  \n",
       "0                   07******374 Kevin Kuya  \n",
       "1                                Safaricom  \n",
       "2    888880 - KPLCPREPAID Acc. 54607518138  \n",
       "3               2547******189 HANNAH KAMAU  \n",
       "4                 07******564 fredkingoina  \n",
       "..                                     ...  \n",
       "99                               Safaricom  \n",
       "100    522522 - KCB PaybillAC Acc. 7551712  \n",
       "101          7766630 -JANE NYOKABI KINGORI  \n",
       "102                              Safaricom  \n",
       "103           5335416 -Andrew Kamau Kimani  \n",
       "\n",
       "[104 rows x 8 columns]"
      ]
     },
     "execution_count": 198,
     "metadata": {},
     "output_type": "execute_result"
    }
   ],
   "source": [
    "transactions[transactions[\"Date\"]>\"2024-12-12\"]"
   ]
  },
  {
   "cell_type": "code",
   "execution_count": 180,
   "metadata": {},
   "outputs": [
    {
     "data": {
      "text/plain": [
       "array(['Send money', 'Paybill', 'Receive money', 'Pochi la Biashara',\n",
       "       'Airtime', 'Buy Goods', 'Withdrawal Charges', 'Withdraw Money',\n",
       "       'M-Shwari Loan', 'Receive money from bank/org',\n",
       "       'Safaricom Charges', 'International Money Transfer Sent',\n",
       "       'International Money Transfer Receipt', 'Deposit Cash',\n",
       "       'No description', 'Reversal'], dtype=object)"
      ]
     },
     "execution_count": 180,
     "metadata": {},
     "output_type": "execute_result"
    }
   ],
   "source": [
    "transactions.Type.unique()"
   ]
  },
  {
   "cell_type": "code",
   "execution_count": 181,
   "metadata": {},
   "outputs": [
    {
     "data": {
      "text/plain": [
       "array(['Safaricom'], dtype=object)"
      ]
     },
     "execution_count": 181,
     "metadata": {},
     "output_type": "execute_result"
    }
   ],
   "source": [
    "transactions.loc[transactions[\"Type\"]== \"No description\"][\"Party\"].unique()"
   ]
  },
  {
   "cell_type": "code",
   "execution_count": 182,
   "metadata": {},
   "outputs": [
    {
     "data": {
      "text/html": [
       "<div>\n",
       "<style scoped>\n",
       "    .dataframe tbody tr th:only-of-type {\n",
       "        vertical-align: middle;\n",
       "    }\n",
       "\n",
       "    .dataframe tbody tr th {\n",
       "        vertical-align: top;\n",
       "    }\n",
       "\n",
       "    .dataframe thead th {\n",
       "        text-align: right;\n",
       "    }\n",
       "</style>\n",
       "<table border=\"1\" class=\"dataframe\">\n",
       "  <thead>\n",
       "    <tr style=\"text-align: right;\">\n",
       "      <th></th>\n",
       "      <th>Amount</th>\n",
       "      <th>Direction</th>\n",
       "      <th>Transaction code</th>\n",
       "    </tr>\n",
       "    <tr>\n",
       "      <th>Party</th>\n",
       "      <th></th>\n",
       "      <th></th>\n",
       "      <th></th>\n",
       "    </tr>\n",
       "  </thead>\n",
       "  <tbody>\n",
       "    <tr>\n",
       "      <th>840020 - M-PESA GLOBAL. Acc.256773347169</th>\n",
       "      <td>116166.0</td>\n",
       "      <td>OutOutOutOut</td>\n",
       "      <td>SJS1QL473ZSIQ9Z00ZCRSGP0SE8YR4SGN9KXCAF9</td>\n",
       "    </tr>\n",
       "    <tr>\n",
       "      <th>859528 - MALIAcc.0702605230_40144986_712637#96125e75-fd58-46c7-a054-afbf77a5fd6e</th>\n",
       "      <td>67287.0</td>\n",
       "      <td>Out</td>\n",
       "      <td>SEM1104UAL</td>\n",
       "    </tr>\n",
       "    <tr>\n",
       "      <th>247247 -Equity Paybill Account Acc.0702605230</th>\n",
       "      <td>50900.0</td>\n",
       "      <td>OutOutOut</td>\n",
       "      <td>SIT6C34I68SI981XROSASI971X4J7N</td>\n",
       "    </tr>\n",
       "    <tr>\n",
       "      <th>4090833 -CAPE PROPERTIES VIA CO-OPAcc. NO2</th>\n",
       "      <td>48100.0</td>\n",
       "      <td>OutOutOut</td>\n",
       "      <td>SK54M8TNHUSJ12JZMRT0SHN1ZJDN3D</td>\n",
       "    </tr>\n",
       "    <tr>\n",
       "      <th>859528 - MALIAcc.0702605230_40144986_539706#3504017c-e988-4add-857f-94e5c7f9f666</th>\n",
       "      <td>36895.0</td>\n",
       "      <td>Out</td>\n",
       "      <td>SEL9VWUW3B</td>\n",
       "    </tr>\n",
       "    <tr>\n",
       "      <th>859528 - MALIAcc.0702605230_40144986_535102#e08e0567-963e-47e9-81e0-016c93f3e3b2</th>\n",
       "      <td>25340.0</td>\n",
       "      <td>Out</td>\n",
       "      <td>SG26CP601W</td>\n",
       "    </tr>\n",
       "    <tr>\n",
       "      <th>859528 - MALIAcc.0702605230_40144986_346938#8bec0519-6bb3-41d8-9703-8a9e5e4ffb24</th>\n",
       "      <td>22750.0</td>\n",
       "      <td>Out</td>\n",
       "      <td>SG137HWPVB</td>\n",
       "    </tr>\n",
       "    <tr>\n",
       "      <th>859528 - MALIAcc.0702605230_40144986_565881#87773e92-cb75-44ac-aa59-f889a439accf</th>\n",
       "      <td>20000.0</td>\n",
       "      <td>Out</td>\n",
       "      <td>SEN46DXCZA</td>\n",
       "    </tr>\n",
       "    <tr>\n",
       "      <th>859528 - MALIAcc.0702605230_40144986_7874#d9a7f433-1ac9-4331-9450-4e5f74f91e4a</th>\n",
       "      <td>20000.0</td>\n",
       "      <td>Out</td>\n",
       "      <td>SF31AV745T</td>\n",
       "    </tr>\n",
       "    <tr>\n",
       "      <th>859528 - MALIAcc.0702605230_40144986_489336#c79002d9-b97b-49c4-aa91-bf92ab787601</th>\n",
       "      <td>19000.0</td>\n",
       "      <td>Out</td>\n",
       "      <td>SFB77KA3P7</td>\n",
       "    </tr>\n",
       "  </tbody>\n",
       "</table>\n",
       "</div>"
      ],
      "text/plain": [
       "                                                      Amount     Direction  \\\n",
       "Party                                                                        \n",
       "840020 - M-PESA GLOBAL. Acc.256773347169            116166.0  OutOutOutOut   \n",
       "859528 - MALIAcc.0702605230_40144986_712637#961...   67287.0           Out   \n",
       "247247 -Equity Paybill Account Acc.0702605230        50900.0     OutOutOut   \n",
       "4090833 -CAPE PROPERTIES VIA CO-OPAcc. NO2           48100.0     OutOutOut   \n",
       "859528 - MALIAcc.0702605230_40144986_539706#350...   36895.0           Out   \n",
       "859528 - MALIAcc.0702605230_40144986_535102#e08...   25340.0           Out   \n",
       "859528 - MALIAcc.0702605230_40144986_346938#8be...   22750.0           Out   \n",
       "859528 - MALIAcc.0702605230_40144986_565881#877...   20000.0           Out   \n",
       "859528 - MALIAcc.0702605230_40144986_7874#d9a7f...   20000.0           Out   \n",
       "859528 - MALIAcc.0702605230_40144986_489336#c79...   19000.0           Out   \n",
       "\n",
       "                                                                            Transaction code  \n",
       "Party                                                                                         \n",
       "840020 - M-PESA GLOBAL. Acc.256773347169            SJS1QL473ZSIQ9Z00ZCRSGP0SE8YR4SGN9KXCAF9  \n",
       "859528 - MALIAcc.0702605230_40144986_712637#961...                                SEM1104UAL  \n",
       "247247 -Equity Paybill Account Acc.0702605230                 SIT6C34I68SI981XROSASI971X4J7N  \n",
       "4090833 -CAPE PROPERTIES VIA CO-OPAcc. NO2                    SK54M8TNHUSJ12JZMRT0SHN1ZJDN3D  \n",
       "859528 - MALIAcc.0702605230_40144986_539706#350...                                SEL9VWUW3B  \n",
       "859528 - MALIAcc.0702605230_40144986_535102#e08...                                SG26CP601W  \n",
       "859528 - MALIAcc.0702605230_40144986_346938#8be...                                SG137HWPVB  \n",
       "859528 - MALIAcc.0702605230_40144986_565881#877...                                SEN46DXCZA  \n",
       "859528 - MALIAcc.0702605230_40144986_7874#d9a7f...                                SF31AV745T  \n",
       "859528 - MALIAcc.0702605230_40144986_489336#c79...                                SFB77KA3P7  "
      ]
     },
     "execution_count": 182,
     "metadata": {},
     "output_type": "execute_result"
    }
   ],
   "source": [
    "transactions.loc[transactions[\"Type\"] == \"Paybill\",[\"Amount\",\"Party\",\"Direction\",\"Transaction code\"]].groupby('Party',group_keys=False).sum().nlargest(10,\"Amount\")"
   ]
  }
 ],
 "metadata": {
  "kernelspec": {
   "display_name": "venv",
   "language": "python",
   "name": "python3"
  },
  "language_info": {
   "codemirror_mode": {
    "name": "ipython",
    "version": 3
   },
   "file_extension": ".py",
   "mimetype": "text/x-python",
   "name": "python",
   "nbconvert_exporter": "python",
   "pygments_lexer": "ipython3",
   "version": "3.13.1"
  }
 },
 "nbformat": 4,
 "nbformat_minor": 2
}
