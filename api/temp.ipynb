{
 "cells": [
  {
   "cell_type": "code",
   "execution_count": 71,
   "metadata": {},
   "outputs": [],
   "source": [
    "import pandas as pd"
   ]
  },
  {
   "cell_type": "code",
   "execution_count": 72,
   "metadata": {},
   "outputs": [],
   "source": [
    "transactions = pd.read_csv(\"data/transactions.csv\")"
   ]
  },
  {
   "cell_type": "code",
   "execution_count": 73,
   "metadata": {},
   "outputs": [
    {
     "data": {
      "text/plain": [
       "Index(['Transaction code', 'Date', 'Amount', 'Balance', 'Type', 'Direction',\n",
       "       'Account', 'Party Details'],\n",
       "      dtype='object')"
      ]
     },
     "execution_count": 73,
     "metadata": {},
     "output_type": "execute_result"
    }
   ],
   "source": [
    "transactions.columns"
   ]
  },
  {
   "cell_type": "code",
   "execution_count": 74,
   "metadata": {},
   "outputs": [
    {
     "name": "stdout",
     "output_type": "stream",
     "text": [
      "<class 'pandas.core.frame.DataFrame'>\n",
      "RangeIndex: 2916 entries, 0 to 2915\n",
      "Data columns (total 8 columns):\n",
      " #   Column            Non-Null Count  Dtype  \n",
      "---  ------            --------------  -----  \n",
      " 0   Transaction code  2916 non-null   object \n",
      " 1   Date              2916 non-null   object \n",
      " 2   Amount            2916 non-null   float64\n",
      " 3   Balance           2916 non-null   float64\n",
      " 4   Type              2916 non-null   object \n",
      " 5   Direction         2916 non-null   object \n",
      " 6   Account           2916 non-null   object \n",
      " 7   Party Details     2916 non-null   object \n",
      "dtypes: float64(2), object(6)\n",
      "memory usage: 182.4+ KB\n"
     ]
    }
   ],
   "source": [
    "transactions.info()"
   ]
  },
  {
   "cell_type": "markdown",
   "metadata": {},
   "source": [
    "### Total Cash Flow Through MPESA"
   ]
  },
  {
   "cell_type": "markdown",
   "metadata": {},
   "source": [
    "#### Amount of money received in the whole period"
   ]
  },
  {
   "cell_type": "code",
   "execution_count": 75,
   "metadata": {},
   "outputs": [
    {
     "data": {
      "text/plain": [
       "np.float64(1647105.63)"
      ]
     },
     "execution_count": 75,
     "metadata": {},
     "output_type": "execute_result"
    }
   ],
   "source": [
    "transactions[transactions.Direction == \"In\"][\"Amount\"].sum()"
   ]
  },
  {
   "cell_type": "markdown",
   "metadata": {},
   "source": [
    "#### Amount of money sent in the whole period"
   ]
  },
  {
   "cell_type": "code",
   "execution_count": 76,
   "metadata": {},
   "outputs": [
    {
     "data": {
      "text/plain": [
       "np.float64(1623798.52)"
      ]
     },
     "execution_count": 76,
     "metadata": {},
     "output_type": "execute_result"
    }
   ],
   "source": [
    "transactions[transactions.Direction == \"Out\"][\"Amount\"].sum()"
   ]
  },
  {
   "cell_type": "code",
   "execution_count": 77,
   "metadata": {},
   "outputs": [],
   "source": [
    "w_charges = set(transactions.loc[transactions[\"Type\"] == \"Withdrawal Charges\"][\"Transaction code\"])\n",
    "w_transactions = set(transactions.loc[transactions[\"Type\"] == \"Withdraw Money\"][\"Transaction code\"])"
   ]
  },
  {
   "cell_type": "code",
   "execution_count": 78,
   "metadata": {},
   "outputs": [
    {
     "data": {
      "text/plain": [
       "{'SJL6WDE1NI'}"
      ]
     },
     "execution_count": 78,
     "metadata": {},
     "output_type": "execute_result"
    }
   ],
   "source": [
    "w_transactions - w_charges"
   ]
  },
  {
   "cell_type": "code",
   "execution_count": 79,
   "metadata": {},
   "outputs": [
    {
     "data": {
      "text/plain": [
       "(59, 8)"
      ]
     },
     "execution_count": 79,
     "metadata": {},
     "output_type": "execute_result"
    }
   ],
   "source": [
    "transactions.loc[transactions[\"Type\"] == \"Withdraw Money\"].shape"
   ]
  },
  {
   "cell_type": "code",
   "execution_count": 80,
   "metadata": {},
   "outputs": [
    {
     "data": {
      "text/plain": [
       "array(['Send money', 'Paybill', 'Receive money', 'Pochi la Biashara',\n",
       "       'Airtime', 'Buy Goods', 'Withdrawal Charges', 'Withdraw Money',\n",
       "       'M-Shwari Loan', 'Receive money from bank/org',\n",
       "       'Safaricom Charges', 'International Money Transfer Sent',\n",
       "       'International Money Transfer Receipt', 'Deposit Cash',\n",
       "       'No description', 'Reversal'], dtype=object)"
      ]
     },
     "execution_count": 80,
     "metadata": {},
     "output_type": "execute_result"
    }
   ],
   "source": [
    "transactions.Type.unique()"
   ]
  },
  {
   "cell_type": "code",
   "execution_count": 81,
   "metadata": {},
   "outputs": [
    {
     "data": {
      "text/plain": [
       "array(['07******374', 'Safaricom', '888880', '2547******189',\n",
       "       '07******564', '2547******383VIRGINIAH', '2547******886PAUL',\n",
       "       '2547******634SOLOMON', '07******007', '07******500',\n",
       "       '2547******686Harrison', '6212558', '07******603',\n",
       "       '2547******865SIMON', 'AgentTill', '6419322', '7766630', '5335416',\n",
       "       '2547******834TITUS', '2547******467FRANCIS',\n",
       "       '2547******653GEORGE', '7310394', '2547******599CHRISTOPHER',\n",
       "       '130341', '2547******730EZEKIEL', '07******841',\n",
       "       '2547******301PAULINE', '2547******139Fredrick',\n",
       "       '2547******543GEORGE', '644028', '2547******818',\n",
       "       '2547******506NAOMI', '07******906', '2547******617EZEKIEL',\n",
       "       '5128456', '07******258', '522533', '2547******802JANE',\n",
       "       '2547******101', '2547******616maria', '2547******341PRICILA',\n",
       "       '2547******282', '2547******450', '07******242', '255255',\n",
       "       '2547******018James', '07******249beatrice', '7693694', '522522',\n",
       "       '2547******673', '07******401', '2547******912',\n",
       "       '2547******737GEORGE', '2547******520charles',\n",
       "       '07******772Masyuko', '07******151', '8045243',\n",
       "       '2547******367ABDALLA', '2547******947MERCY',\n",
       "       '2547******363ESTHER', '07******698MARTIN', '07******650',\n",
       "       '2547******367', '5428754', '6740409', '4090833', '300600',\n",
       "       '3036635', '07******706', '07******439', '07******471',\n",
       "       '2547******617', '07******867', '6747519', '2547******944PATRICK',\n",
       "       '2547******688GEORGE', '07******294', '2547******212',\n",
       "       '07******595', '6721481', '07******566Benson', '515026',\n",
       "       '07******143', '2547******548JOSEPH', '07******048Duncan',\n",
       "       '2547******195WILLIAM', '866528', '2547******810SAMMY',\n",
       "       '2547******660JULIUS', '2547******983JEHU',\n",
       "       '2547******001JEREMIAH', '2547******162Naftary', '2547******939',\n",
       "       '2547******412JULIUS', '07******479kenneth', '07******680',\n",
       "       '07******561', '2547******463', '2547******094', '5116590',\n",
       "       '07******036josephat', '558635', '2547******185SAMUEL',\n",
       "       '07******351', '2547******647EDSON', '07******705',\n",
       "       '2547******846peter', '2547******549', '07******715CLINTON',\n",
       "       '2547******141', '2547******537SANDRINE', '2547******761DANSON',\n",
       "       '7977520', '2547******414LYDIAH', '7434091', '07******204Stephen',\n",
       "       '2547******059', '07******445', '2547******183ALEX',\n",
       "       '2547******543', 'WN', '2547******729', '247247', '5448824',\n",
       "       '2547******167', '2547******087GEOFFREY', '2547******808EPHANTUS',\n",
       "       '2547******063', '07******046CHARLES', 'Customervia',\n",
       "       '2547******259', '2547******240', '661530', '07******683',\n",
       "       '2547******599Cesc', '07******096CRISPINE', '2547******318',\n",
       "       '07******501', '07******835', '01******087VINCENT',\n",
       "       '2547******630', '2547******043', '4120463', '7629439',\n",
       "       '2547******326', '859551', '6516530', '2547******774',\n",
       "       '07******822', '2547******121', '4093275', '07******077',\n",
       "       '07******053', '2547******881', '7067197', '2547******610',\n",
       "       '6650861', '07******099JACKLNE', '2547******969',\n",
       "       '2547******734JUSTIN', '2547******909JAMES', '07******948Calvene',\n",
       "       '01******926', '07******402', '2547******137', '220333', '583373',\n",
       "       '2547******956CHARLES', '2547******053', 'yaya', '2547******283',\n",
       "       '07******183preston', '2547******145', '2547******321GEORGE',\n",
       "       '6257937', '2547******441CYRUS', '2547******281', 'WER',\n",
       "       '07******312', '7920152', '07******774', '840020', '295028',\n",
       "       '07******557', '2547******696', '541400', '222111',\n",
       "       '2547******264LAMECK', '2547******590', '2547******821JOHN',\n",
       "       '07******974SAMUEL', '6739194', '2547******868',\n",
       "       '2547******755PAUL', '2547******963MICHAEL', '2547******055',\n",
       "       '859528', '2547******163', '2547******153', '604986', '6648072',\n",
       "       '7398269', '07******701', '2547******144', '2547******919',\n",
       "       '2547******341polycap', '244441', '2547******255BONFACE', '400200',\n",
       "       '2547******902HARRISON', '2547******207Nelly',\n",
       "       '2547******871David', '2547******285GEORGE',\n",
       "       '2547******671Bernard', '2547******308JOSIAH',\n",
       "       '07******764jaquiline', '2547******332ALBERT', '480587', '113791',\n",
       "       '07******610TABITHA', '07******538DANIEL', '07******108',\n",
       "       '2547******341', '2547******454DOMINIC', '2547******849',\n",
       "       '2547******118', '2541******789VICTOR', '07******729', '7004783',\n",
       "       '2547******260', '07******750', '6854741', '6678217',\n",
       "       '07******686Samuel', '07******935', '2547******278JOSEPH',\n",
       "       '07******617', '2547******412HENLY', '2547******612PETER',\n",
       "       '01******077Alexander', '07******028PATRICK', '2547******821',\n",
       "       '07******868', '2547******782simon', '2547******395',\n",
       "       '01******114', '2547******570BENARD', '2547******741James',\n",
       "       '959959', '2547******843VICTOR', '07******677', '2547******275',\n",
       "       '07******173', '2547******196', '07******065', '07******427',\n",
       "       '2547******580JOHN', '2547******967Silas', '2547******701DENNIS',\n",
       "       '2547******166Christine', '2547******799GEOFFREY', '809719',\n",
       "       '2547******844PETER', '6788958', '2547******783', '2547******755',\n",
       "       '07******198STEPHEN', '2547******706', '2547******008',\n",
       "       '07******933CAROLINE', '07******186', '2547******215TIMOTHY',\n",
       "       '2547******767Mohamed', '07******032', '2547******738PETER',\n",
       "       '2547******883', '2547******440KENNEDY', '7734180', '7941095',\n",
       "       '2547******294MARY', '7203691', '2541******679David',\n",
       "       '07******631', '2547******641MORINATO', '2547******508',\n",
       "       '07******943', '07******628elicanah', '2547******936AGGREY',\n",
       "       '2547******351FRANCIS', '07******058', '07******000',\n",
       "       '2547******476', '5140386', '2547******611',\n",
       "       '2547******267CAROLINE', '6900205', '2547******975MARY', '137145',\n",
       "       '2547******639', '2547******682Daniel', '7344581', '2547******083',\n",
       "       '6356029', '2547******681Nicholas', '07******464Stanley',\n",
       "       '07******266', '07******381', '6300301', '2547******460',\n",
       "       '2547******295WILFRED', '2547******900', '07******276',\n",
       "       '07******546', '6349839', '2547******649Jeremiah', '2547******429',\n",
       "       '7315052', '501901', '2547******679', '2547******412', '826915',\n",
       "       '07******249', '2547******731', '07******590', '6862291',\n",
       "       '01******222', '07******787', '2547******842', '5002460',\n",
       "       '7036719', '192128', 'm', '2547******985STEPHEN',\n",
       "       '2547******727WILSON', '6382460', '2547******376',\n",
       "       '2547******075SIMON', '07******728', '07******673',\n",
       "       '2547******614JUSTINE', '2547******928', '2547******836Isaiah',\n",
       "       '7822614', '2547******658ONCHIRI', '5039692', '01******045',\n",
       "       '2547******661', '07******086', '07******921', '7743576',\n",
       "       '2547******009', '07******330', '2547******693DERRICK',\n",
       "       '2547******884SOLOMON', '6780877', '7855282', '2547******983JESEE',\n",
       "       '07******378Wellington', '2547******616', '2547******705',\n",
       "       '07******889', '2547******499SIMON', '5127944', '07******447',\n",
       "       '888888', '5084394', '2547******157PETER', '7596339', '7104480',\n",
       "       '07******145', 'wn', '07******897Graham', '222222', '7116013',\n",
       "       '151261', '7973094', '2541******207', '6740413',\n",
       "       '2547******094JOSEPH', '2547******105', '838225', '754951',\n",
       "       '2547******198kinyanjui', '07******842', '2547******848',\n",
       "       '2547******936', '174379', '2547******832', '01******763',\n",
       "       '07******025', '07******198', '2547******886',\n",
       "       '2547******622FREDRICK', '7865067', '719597', '2547******316',\n",
       "       '6227790', '2547******027', '2547******025', '716163',\n",
       "       '2547******909', '07******240', '07******469', '01******573',\n",
       "       '2547******995', '4267868', '01******760', '2547******136',\n",
       "       '7049337', '2547******489', '590789', '2547******613',\n",
       "       '2547******889', '2547******048', '07******981VERONICA',\n",
       "       '2547******723', '01******302', '2547******767', '2547******390',\n",
       "       '2547******090', '2547******866', '2547******742TIMOTHY',\n",
       "       '6171720', '07******069', '2547******439', '2547******248',\n",
       "       '2547******567JULIA', '07******122', '07******150', '07******691',\n",
       "       '07******651', '2547******560Samson', '2547******812',\n",
       "       '07******124', '07******788', '2547******819GERALD',\n",
       "       '2547******050', '6401101', '07******501Dickson', '2547******438',\n",
       "       '07******937RAcHEAL', '2541******337Charles', '2547******100JOHN',\n",
       "       '2547******316JANE', '07******899George', '6491892',\n",
       "       '2547******575', '6392780', '2547******040', '2547******979',\n",
       "       '2547******453', '876836', '6403545', '2547******867', '6318259',\n",
       "       '6710441', '07******137', '2547******725', '07******354',\n",
       "       'TheJuction', '2547******429Doreen', '2547******223',\n",
       "       '2547******270', '07******001', '2547******744edward',\n",
       "       '2547******983JAPHET', '07******768', '303031', '07******960',\n",
       "       '7293657', '07******449ANNICK', '01******985', '2547******454PAUL',\n",
       "       '2547******254David', '07******233', '07******319BONIFACE',\n",
       "       '07******801', '6296593', '6084569', '2547******979peter',\n",
       "       '2547******690Catherine', '2547******595', '2547******650',\n",
       "       '07******140', '07******433Happiness', '2547******871EGIDE',\n",
       "       '07******326', '5002461', '2547******732JOHNSON',\n",
       "       '2547******431PETER', '07******310', '07******726',\n",
       "       '07******869JOSPHAT', '07******244ANTHONY', '07******295',\n",
       "       '07******290', '07******757', '2547******310', '07******393',\n",
       "       '2547******471JOSEPH', '07******559Christopher',\n",
       "       '07******960michael', '925856', '2547******572ROBERT',\n",
       "       '2547******517MALCOLM', '07******511', '2547******369BENARD',\n",
       "       '2547******234', '07******405', '07******562', 'Business323293',\n",
       "       '07******587', '718657', '07******613', '167159', '07******709',\n",
       "       '07******865', '07******063', '2547******241',\n",
       "       '2547******653Francis', '2547******003JOHN', '7053089',\n",
       "       '2547******160JOHN', '2547******017', '07******582',\n",
       "       '2547******156', '2547******092JOSEPH', '2547******625ELIZABETH',\n",
       "       '2547******158', '07******118Daivarious', '2547******805MARGARET',\n",
       "       '2547******466', '2547******611PAUL', '2547******825EVANSON',\n",
       "       '2547******631', '6385321', '2547******905', '07******578Samuel',\n",
       "       '7525101', '07******762charles', '2547******915',\n",
       "       '2547******752PETER', '2547******105DOUGLAS', '2547******032',\n",
       "       '07******182michael', '2547******502STEPHEN', '2547******491',\n",
       "       '7053095', '7924662', '07******526', '07******766', '6563266',\n",
       "       '2547******670', '07******755', '6810373', '07******213',\n",
       "       '2547******550', '7097831', '2547******712', '630640', '339888',\n",
       "       '6072546', '2547******720', '303574', '2547******871PETER',\n",
       "       '07******604Humprey', '2547******404', '7362068', '07******404',\n",
       "       '942237', '7062246', '07******495', '07******659', '7527036',\n",
       "       '2547******285', '07******653', '07******282',\n",
       "       '01******484FRANCIS', '2547******220', '01******944GODFREY',\n",
       "       '2547******843ANTONY', '2547******915MARY', '2547******599',\n",
       "       '2547******262', '07******421', '2547******213', '07******502',\n",
       "       '07******264', '2547******537', '843969', '2547******641', 'Agent',\n",
       "       '07******764', '2547******361JANE', '2547******051MARTIN',\n",
       "       '2547******134', '7657197', '07******600NICHOLAS', '2547******778',\n",
       "       '2547******128', '689974', '07******604', 'mMboya',\n",
       "       '2547******316NOAH', '2547******179', '4194792', '2547******322',\n",
       "       '2547******377', '6127327', '7882456', '7662378',\n",
       "       '2547******781MOSES', '6782263', '7930669', '2541******088',\n",
       "       '303030', '2547******565', '07******583', '07******364',\n",
       "       '2547******584', '7527617', '2547******693PETERSON', '07******688',\n",
       "       '7302152', '2547******570', '07******406', '07******317',\n",
       "       '07******926', '852648', '07******154', '01******675',\n",
       "       '2547******249PETER', '987550', '7380473', '2547******899',\n",
       "       '2547******005', '01******127', '2547******744', '824941',\n",
       "       '2547******358', '07******408', '2547******657JANE',\n",
       "       '2547******623', '01******884', '2547******100',\n",
       "       'WestgateRoundaboutWestlands', '2547******310RAHAH',\n",
       "       '2547******505CHRISPAL', '7016794', '2547******717',\n",
       "       '2547******966BERNARD', '07******039', '2547******603',\n",
       "       '2547******252', '2547******333', '2547******647',\n",
       "       '2547******134PETER', '07******738SAMUEL', '2547******190SIMON',\n",
       "       '2547******495festus', '2547******881CHARLES',\n",
       "       '2547******843CHARLES', '2547******638', '07******413',\n",
       "       '2547******672', '2547******500', '2547******770', '6184470',\n",
       "       '2547******180', '2547******031ELIZABETH', '01******663',\n",
       "       '2547******927', '01******397', '2547******802', '2547******924',\n",
       "       '07******039WYCLIFF', '2547******689SUSAN', '2547******056Francis',\n",
       "       '7750184', '779959', '180175', '2547******514', '276663',\n",
       "       '7099197', '07******072', '6250913', '2547******644', '7046086',\n",
       "       'TAL', '07******880', '2547******737', '2547******447FRANCIS',\n",
       "       '4122759', '2547******918Mary', '07******485', '2547******746',\n",
       "       '2547******371', '2547******357JAMES', '2547******344',\n",
       "       '2547******067', '7127496', '07******409', '2547******577',\n",
       "       '07******629', '7528049', '504528', 'K&Asupermarket',\n",
       "       '2547******205', '7847604', '7056958', '2547******405WILSON',\n",
       "       '2547******311JOSHUA', '2547******836', '6108159',\n",
       "       '2547******333ROSALYN', '2547******955PETER', '2547******461',\n",
       "       '07******519WASHINGTONE', '2547******008Wilson', '6305362',\n",
       "       '748658', '2547******014PETER', '847092', '784398',\n",
       "       '2547******752', '197788', '2547******785', 'QUE', '6189019',\n",
       "       '2547******332HARON', '01******510', '7598104', '07******293',\n",
       "       '7266573', '2547******505HANNAH', '2547******743Simon',\n",
       "       '2547******396DANIEL', '2547******332', '2547******942JULIUS',\n",
       "       '6373534', '2547******272', '817600', '175145',\n",
       "       '2547******024David', '07******656', '2547******967',\n",
       "       '2547******887', '2547******872DAVID', '542542',\n",
       "       '2547******550STEPHEN', '2547******402EDWIN', '2547******110',\n",
       "       '01******347', '2547******736', '2547******576',\n",
       "       '2547******055JOYCE', '7682059', '2547******525GEORGE', '7646487'],\n",
       "      dtype=object)"
      ]
     },
     "execution_count": 81,
     "metadata": {},
     "output_type": "execute_result"
    }
   ],
   "source": [
    "transactions.Account.unique()"
   ]
  },
  {
   "cell_type": "code",
   "execution_count": 82,
   "metadata": {},
   "outputs": [
    {
     "data": {
      "text/html": [
       "<div>\n",
       "<style scoped>\n",
       "    .dataframe tbody tr th:only-of-type {\n",
       "        vertical-align: middle;\n",
       "    }\n",
       "\n",
       "    .dataframe tbody tr th {\n",
       "        vertical-align: top;\n",
       "    }\n",
       "\n",
       "    .dataframe thead th {\n",
       "        text-align: right;\n",
       "    }\n",
       "</style>\n",
       "<table border=\"1\" class=\"dataframe\">\n",
       "  <thead>\n",
       "    <tr style=\"text-align: right;\">\n",
       "      <th></th>\n",
       "      <th>Transaction code</th>\n",
       "      <th>Date</th>\n",
       "      <th>Amount</th>\n",
       "      <th>Balance</th>\n",
       "      <th>Type</th>\n",
       "      <th>Direction</th>\n",
       "      <th>Account</th>\n",
       "      <th>Party Details</th>\n",
       "    </tr>\n",
       "  </thead>\n",
       "  <tbody>\n",
       "    <tr>\n",
       "      <th>0</th>\n",
       "      <td>SLS85T3UIS</td>\n",
       "      <td>2024-12-28 17:14:15</td>\n",
       "      <td>50.0</td>\n",
       "      <td>9573.02</td>\n",
       "      <td>Send money</td>\n",
       "      <td>Out</td>\n",
       "      <td>07******374</td>\n",
       "      <td>Kevin Kuya</td>\n",
       "    </tr>\n",
       "    <tr>\n",
       "      <th>1</th>\n",
       "      <td>SLR73F2QIX</td>\n",
       "      <td>2024-12-27 22:56:45</td>\n",
       "      <td>5.0</td>\n",
       "      <td>9623.02</td>\n",
       "      <td>Paybill</td>\n",
       "      <td>Out</td>\n",
       "      <td>Safaricom</td>\n",
       "      <td>Safaricom</td>\n",
       "    </tr>\n",
       "    <tr>\n",
       "      <th>2</th>\n",
       "      <td>SLR73F2QIX</td>\n",
       "      <td>2024-12-27 22:56:45</td>\n",
       "      <td>300.0</td>\n",
       "      <td>9628.02</td>\n",
       "      <td>Paybill</td>\n",
       "      <td>Out</td>\n",
       "      <td>888880</td>\n",
       "      <td>KPLCPREPAID Acc. 54607518138</td>\n",
       "    </tr>\n",
       "    <tr>\n",
       "      <th>3</th>\n",
       "      <td>SLR93EZMK5</td>\n",
       "      <td>2024-12-27 22:55:21</td>\n",
       "      <td>330.0</td>\n",
       "      <td>9928.02</td>\n",
       "      <td>Receive money</td>\n",
       "      <td>In</td>\n",
       "      <td>2547******189</td>\n",
       "      <td>HANNAH KAMAU</td>\n",
       "    </tr>\n",
       "    <tr>\n",
       "      <th>4</th>\n",
       "      <td>SLP0TLJO9S</td>\n",
       "      <td>2024-12-25 17:26:22</td>\n",
       "      <td>30.0</td>\n",
       "      <td>9598.02</td>\n",
       "      <td>Pochi la Biashara</td>\n",
       "      <td>Out</td>\n",
       "      <td>07******564</td>\n",
       "      <td>fredkingoina</td>\n",
       "    </tr>\n",
       "    <tr>\n",
       "      <th>...</th>\n",
       "      <td>...</td>\n",
       "      <td>...</td>\n",
       "      <td>...</td>\n",
       "      <td>...</td>\n",
       "      <td>...</td>\n",
       "      <td>...</td>\n",
       "      <td>...</td>\n",
       "      <td>...</td>\n",
       "    </tr>\n",
       "    <tr>\n",
       "      <th>99</th>\n",
       "      <td>SLC87UTG74</td>\n",
       "      <td>2024-12-12 16:45:03</td>\n",
       "      <td>5.0</td>\n",
       "      <td>498.02</td>\n",
       "      <td>Paybill</td>\n",
       "      <td>Out</td>\n",
       "      <td>Safaricom</td>\n",
       "      <td>Safaricom</td>\n",
       "    </tr>\n",
       "    <tr>\n",
       "      <th>100</th>\n",
       "      <td>SLC87UTG74</td>\n",
       "      <td>2024-12-12 16:45:03</td>\n",
       "      <td>300.0</td>\n",
       "      <td>503.02</td>\n",
       "      <td>Paybill</td>\n",
       "      <td>Out</td>\n",
       "      <td>522522</td>\n",
       "      <td>KCB PaybillAC Acc. 7551712</td>\n",
       "    </tr>\n",
       "    <tr>\n",
       "      <th>101</th>\n",
       "      <td>SLC87U60Q4</td>\n",
       "      <td>2024-12-12 16:40:40</td>\n",
       "      <td>225.0</td>\n",
       "      <td>803.02</td>\n",
       "      <td>Buy Goods</td>\n",
       "      <td>Out</td>\n",
       "      <td>7766630</td>\n",
       "      <td>JANE NYOKABI KINGORI</td>\n",
       "    </tr>\n",
       "    <tr>\n",
       "      <th>102</th>\n",
       "      <td>SLC67T08D4</td>\n",
       "      <td>2024-12-12 16:32:50</td>\n",
       "      <td>20.0</td>\n",
       "      <td>1028.02</td>\n",
       "      <td>Airtime</td>\n",
       "      <td>Out</td>\n",
       "      <td>Safaricom</td>\n",
       "      <td>Safaricom</td>\n",
       "    </tr>\n",
       "    <tr>\n",
       "      <th>103</th>\n",
       "      <td>SLC37PU68R</td>\n",
       "      <td>2024-12-12 16:10:41</td>\n",
       "      <td>1000.0</td>\n",
       "      <td>1048.02</td>\n",
       "      <td>Receive money from bank/org</td>\n",
       "      <td>In</td>\n",
       "      <td>5335416</td>\n",
       "      <td>Andrew Kamau Kimani</td>\n",
       "    </tr>\n",
       "  </tbody>\n",
       "</table>\n",
       "<p>104 rows × 8 columns</p>\n",
       "</div>"
      ],
      "text/plain": [
       "    Transaction code                 Date  Amount  Balance  \\\n",
       "0         SLS85T3UIS  2024-12-28 17:14:15    50.0  9573.02   \n",
       "1         SLR73F2QIX  2024-12-27 22:56:45     5.0  9623.02   \n",
       "2         SLR73F2QIX  2024-12-27 22:56:45   300.0  9628.02   \n",
       "3         SLR93EZMK5  2024-12-27 22:55:21   330.0  9928.02   \n",
       "4         SLP0TLJO9S  2024-12-25 17:26:22    30.0  9598.02   \n",
       "..               ...                  ...     ...      ...   \n",
       "99        SLC87UTG74  2024-12-12 16:45:03     5.0   498.02   \n",
       "100       SLC87UTG74  2024-12-12 16:45:03   300.0   503.02   \n",
       "101       SLC87U60Q4  2024-12-12 16:40:40   225.0   803.02   \n",
       "102       SLC67T08D4  2024-12-12 16:32:50    20.0  1028.02   \n",
       "103       SLC37PU68R  2024-12-12 16:10:41  1000.0  1048.02   \n",
       "\n",
       "                            Type Direction        Account  \\\n",
       "0                     Send money       Out    07******374   \n",
       "1                        Paybill       Out      Safaricom   \n",
       "2                        Paybill       Out         888880   \n",
       "3                  Receive money        In  2547******189   \n",
       "4              Pochi la Biashara       Out    07******564   \n",
       "..                           ...       ...            ...   \n",
       "99                       Paybill       Out      Safaricom   \n",
       "100                      Paybill       Out         522522   \n",
       "101                    Buy Goods       Out        7766630   \n",
       "102                      Airtime       Out      Safaricom   \n",
       "103  Receive money from bank/org        In        5335416   \n",
       "\n",
       "                    Party Details  \n",
       "0                      Kevin Kuya  \n",
       "1                       Safaricom  \n",
       "2    KPLCPREPAID Acc. 54607518138  \n",
       "3                    HANNAH KAMAU  \n",
       "4                    fredkingoina  \n",
       "..                            ...  \n",
       "99                      Safaricom  \n",
       "100    KCB PaybillAC Acc. 7551712  \n",
       "101          JANE NYOKABI KINGORI  \n",
       "102                     Safaricom  \n",
       "103           Andrew Kamau Kimani  \n",
       "\n",
       "[104 rows x 8 columns]"
      ]
     },
     "execution_count": 82,
     "metadata": {},
     "output_type": "execute_result"
    }
   ],
   "source": [
    "transactions[transactions[\"Date\"]>\"2024-12-12\"]"
   ]
  },
  {
   "cell_type": "code",
   "execution_count": 180,
   "metadata": {},
   "outputs": [
    {
     "data": {
      "text/plain": [
       "array(['Send money', 'Paybill', 'Receive money', 'Pochi la Biashara',\n",
       "       'Airtime', 'Buy Goods', 'Withdrawal Charges', 'Withdraw Money',\n",
       "       'M-Shwari Loan', 'Receive money from bank/org',\n",
       "       'Safaricom Charges', 'International Money Transfer Sent',\n",
       "       'International Money Transfer Receipt', 'Deposit Cash',\n",
       "       'No description', 'Reversal'], dtype=object)"
      ]
     },
     "execution_count": 180,
     "metadata": {},
     "output_type": "execute_result"
    }
   ],
   "source": [
    "transactions.Type.unique()"
   ]
  },
  {
   "cell_type": "code",
   "execution_count": 181,
   "metadata": {},
   "outputs": [
    {
     "data": {
      "text/plain": [
       "array(['Safaricom'], dtype=object)"
      ]
     },
     "execution_count": 181,
     "metadata": {},
     "output_type": "execute_result"
    }
   ],
   "source": [
    "transactions.loc[transactions[\"Type\"]== \"No description\"][\"Party\"].unique()"
   ]
  },
  {
   "cell_type": "code",
   "execution_count": 182,
   "metadata": {},
   "outputs": [
    {
     "data": {
      "text/html": [
       "<div>\n",
       "<style scoped>\n",
       "    .dataframe tbody tr th:only-of-type {\n",
       "        vertical-align: middle;\n",
       "    }\n",
       "\n",
       "    .dataframe tbody tr th {\n",
       "        vertical-align: top;\n",
       "    }\n",
       "\n",
       "    .dataframe thead th {\n",
       "        text-align: right;\n",
       "    }\n",
       "</style>\n",
       "<table border=\"1\" class=\"dataframe\">\n",
       "  <thead>\n",
       "    <tr style=\"text-align: right;\">\n",
       "      <th></th>\n",
       "      <th>Amount</th>\n",
       "      <th>Direction</th>\n",
       "      <th>Transaction code</th>\n",
       "    </tr>\n",
       "    <tr>\n",
       "      <th>Party</th>\n",
       "      <th></th>\n",
       "      <th></th>\n",
       "      <th></th>\n",
       "    </tr>\n",
       "  </thead>\n",
       "  <tbody>\n",
       "    <tr>\n",
       "      <th>840020 - M-PESA GLOBAL. Acc.256773347169</th>\n",
       "      <td>116166.0</td>\n",
       "      <td>OutOutOutOut</td>\n",
       "      <td>SJS1QL473ZSIQ9Z00ZCRSGP0SE8YR4SGN9KXCAF9</td>\n",
       "    </tr>\n",
       "    <tr>\n",
       "      <th>859528 - MALIAcc.0702605230_40144986_712637#96125e75-fd58-46c7-a054-afbf77a5fd6e</th>\n",
       "      <td>67287.0</td>\n",
       "      <td>Out</td>\n",
       "      <td>SEM1104UAL</td>\n",
       "    </tr>\n",
       "    <tr>\n",
       "      <th>247247 -Equity Paybill Account Acc.0702605230</th>\n",
       "      <td>50900.0</td>\n",
       "      <td>OutOutOut</td>\n",
       "      <td>SIT6C34I68SI981XROSASI971X4J7N</td>\n",
       "    </tr>\n",
       "    <tr>\n",
       "      <th>4090833 -CAPE PROPERTIES VIA CO-OPAcc. NO2</th>\n",
       "      <td>48100.0</td>\n",
       "      <td>OutOutOut</td>\n",
       "      <td>SK54M8TNHUSJ12JZMRT0SHN1ZJDN3D</td>\n",
       "    </tr>\n",
       "    <tr>\n",
       "      <th>859528 - MALIAcc.0702605230_40144986_539706#3504017c-e988-4add-857f-94e5c7f9f666</th>\n",
       "      <td>36895.0</td>\n",
       "      <td>Out</td>\n",
       "      <td>SEL9VWUW3B</td>\n",
       "    </tr>\n",
       "    <tr>\n",
       "      <th>859528 - MALIAcc.0702605230_40144986_535102#e08e0567-963e-47e9-81e0-016c93f3e3b2</th>\n",
       "      <td>25340.0</td>\n",
       "      <td>Out</td>\n",
       "      <td>SG26CP601W</td>\n",
       "    </tr>\n",
       "    <tr>\n",
       "      <th>859528 - MALIAcc.0702605230_40144986_346938#8bec0519-6bb3-41d8-9703-8a9e5e4ffb24</th>\n",
       "      <td>22750.0</td>\n",
       "      <td>Out</td>\n",
       "      <td>SG137HWPVB</td>\n",
       "    </tr>\n",
       "    <tr>\n",
       "      <th>859528 - MALIAcc.0702605230_40144986_565881#87773e92-cb75-44ac-aa59-f889a439accf</th>\n",
       "      <td>20000.0</td>\n",
       "      <td>Out</td>\n",
       "      <td>SEN46DXCZA</td>\n",
       "    </tr>\n",
       "    <tr>\n",
       "      <th>859528 - MALIAcc.0702605230_40144986_7874#d9a7f433-1ac9-4331-9450-4e5f74f91e4a</th>\n",
       "      <td>20000.0</td>\n",
       "      <td>Out</td>\n",
       "      <td>SF31AV745T</td>\n",
       "    </tr>\n",
       "    <tr>\n",
       "      <th>859528 - MALIAcc.0702605230_40144986_489336#c79002d9-b97b-49c4-aa91-bf92ab787601</th>\n",
       "      <td>19000.0</td>\n",
       "      <td>Out</td>\n",
       "      <td>SFB77KA3P7</td>\n",
       "    </tr>\n",
       "  </tbody>\n",
       "</table>\n",
       "</div>"
      ],
      "text/plain": [
       "                                                      Amount     Direction  \\\n",
       "Party                                                                        \n",
       "840020 - M-PESA GLOBAL. Acc.256773347169            116166.0  OutOutOutOut   \n",
       "859528 - MALIAcc.0702605230_40144986_712637#961...   67287.0           Out   \n",
       "247247 -Equity Paybill Account Acc.0702605230        50900.0     OutOutOut   \n",
       "4090833 -CAPE PROPERTIES VIA CO-OPAcc. NO2           48100.0     OutOutOut   \n",
       "859528 - MALIAcc.0702605230_40144986_539706#350...   36895.0           Out   \n",
       "859528 - MALIAcc.0702605230_40144986_535102#e08...   25340.0           Out   \n",
       "859528 - MALIAcc.0702605230_40144986_346938#8be...   22750.0           Out   \n",
       "859528 - MALIAcc.0702605230_40144986_565881#877...   20000.0           Out   \n",
       "859528 - MALIAcc.0702605230_40144986_7874#d9a7f...   20000.0           Out   \n",
       "859528 - MALIAcc.0702605230_40144986_489336#c79...   19000.0           Out   \n",
       "\n",
       "                                                                            Transaction code  \n",
       "Party                                                                                         \n",
       "840020 - M-PESA GLOBAL. Acc.256773347169            SJS1QL473ZSIQ9Z00ZCRSGP0SE8YR4SGN9KXCAF9  \n",
       "859528 - MALIAcc.0702605230_40144986_712637#961...                                SEM1104UAL  \n",
       "247247 -Equity Paybill Account Acc.0702605230                 SIT6C34I68SI981XROSASI971X4J7N  \n",
       "4090833 -CAPE PROPERTIES VIA CO-OPAcc. NO2                    SK54M8TNHUSJ12JZMRT0SHN1ZJDN3D  \n",
       "859528 - MALIAcc.0702605230_40144986_539706#350...                                SEL9VWUW3B  \n",
       "859528 - MALIAcc.0702605230_40144986_535102#e08...                                SG26CP601W  \n",
       "859528 - MALIAcc.0702605230_40144986_346938#8be...                                SG137HWPVB  \n",
       "859528 - MALIAcc.0702605230_40144986_565881#877...                                SEN46DXCZA  \n",
       "859528 - MALIAcc.0702605230_40144986_7874#d9a7f...                                SF31AV745T  \n",
       "859528 - MALIAcc.0702605230_40144986_489336#c79...                                SFB77KA3P7  "
      ]
     },
     "execution_count": 182,
     "metadata": {},
     "output_type": "execute_result"
    }
   ],
   "source": [
    "transactions.loc[transactions[\"Type\"] == \"Paybill\",[\"Amount\",\"Party\",\"Direction\",\"Transaction code\"]].groupby('Party',group_keys=False).sum().nlargest(10,\"Amount\")"
   ]
  }
 ],
 "metadata": {
  "kernelspec": {
   "display_name": "venv",
   "language": "python",
   "name": "python3"
  },
  "language_info": {
   "codemirror_mode": {
    "name": "ipython",
    "version": 3
   },
   "file_extension": ".py",
   "mimetype": "text/x-python",
   "name": "python",
   "nbconvert_exporter": "python",
   "pygments_lexer": "ipython3",
   "version": "3.13.1"
  }
 },
 "nbformat": 4,
 "nbformat_minor": 2
}
